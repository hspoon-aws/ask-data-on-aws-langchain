{
 "cells": [
  {
   "cell_type": "code",
   "execution_count": null,
   "metadata": {},
   "outputs": [],
   "source": [
    "%pip -qqq install -r requirements.txt"
   ]
  },
  {
   "cell_type": "code",
   "execution_count": null,
   "metadata": {},
   "outputs": [],
   "source": [
    "import os\n",
    "\n",
    "os.environ['AWS_ACCESS_KEY_ID']=''\n",
    "os.environ['AWS_SECRET_ACCESS_KEY']=''\n",
    "os.environ['AWS_SESSION_TOKEN']=''"
   ]
  },
  {
   "attachments": {},
   "cell_type": "markdown",
   "metadata": {},
   "source": [
    "# Use Sagemaker Endpoint for Llama-2 as LLM model in Langchain"
   ]
  },
  {
   "cell_type": "code",
   "execution_count": null,
   "metadata": {},
   "outputs": [],
   "source": [
    "import json\n",
    "from langchain.llms.sagemaker_endpoint import LLMContentHandler, SagemakerEndpoint\n",
    "\n",
    "def init_llm_sm_endpoint():\n",
    "\n",
    "    endpoint_name = 'jumpstart-dft-meta-textgeneration-llama-2-13b-f'\n",
    "    aws_region='us-east-1'\n",
    "    parameters = {\"max_new_tokens\": 700, \"temperature\": 0.1}\n",
    "\n",
    "\n",
    "    class ContentHandler(LLMContentHandler):\n",
    "        content_type = \"application/json\"\n",
    "        accepts = \"application/json\"\n",
    "\n",
    "        # def transform_input(self, prompt: str, model_kwargs={}) -> bytes:\n",
    "        #     input_str = json.dumps({\"inputs\": prompt, **model_kwargs})\n",
    "        #     return input_str.encode(\"utf-8\")\n",
    "        def transform_input(self, prompt: str, model_kwargs: dict) -> bytes:\n",
    "            input_str = json.dumps({\"inputs\" : [[{\"role\" : \"system\",\n",
    "            \"content\" : \"You are a kind robot.\"},\n",
    "            {\"role\" : \"user\", \"content\" : prompt}]],\n",
    "            \"parameters\" : {**model_kwargs}})\n",
    "            return input_str.encode('utf-8')\n",
    "\n",
    "        def transform_output(self, output: bytes) -> str:\n",
    "            response_json = json.loads(output.read().decode(\"utf-8\"))\n",
    "            return response_json[0][\"generation\"][\"content\"]\n",
    "\n",
    "    content_handler = ContentHandler()\n",
    "\n",
    "    sm_llm = SagemakerEndpoint(\n",
    "        endpoint_name=endpoint_name,\n",
    "        region_name=aws_region,\n",
    "        model_kwargs=parameters,\n",
    "        content_handler=content_handler,\n",
    "        endpoint_kwargs={\"CustomAttributes\": \"accept_eula=true\"},\n",
    "    )\n",
    "    return sm_llm\n",
    "\n",
    "llm = init_llm_sm_endpoint()\n",
    "text = \"What would be a good AWS new service name that allow customers to chat with their own data? Keep answer short. Just give me one answer in your reponse\"\n",
    "llm(text)"
   ]
  }
 ],
 "metadata": {
  "kernelspec": {
   "display_name": "Python 3",
   "language": "python",
   "name": "python3"
  },
  "language_info": {
   "codemirror_mode": {
    "name": "ipython",
    "version": 3
   },
   "file_extension": ".py",
   "mimetype": "text/x-python",
   "name": "python",
   "nbconvert_exporter": "python",
   "pygments_lexer": "ipython3",
   "version": "3.10.5"
  },
  "orig_nbformat": 4
 },
 "nbformat": 4,
 "nbformat_minor": 2
}
