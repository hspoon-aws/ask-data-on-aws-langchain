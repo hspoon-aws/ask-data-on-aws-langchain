{
 "cells": [
  {
   "cell_type": "markdown",
   "metadata": {},
   "source": [
    "## [Demo 1]: Read data on S3 and Talk"
   ]
  },
  {
   "cell_type": "markdown",
   "metadata": {},
   "source": [
    "### 1. RAG\n",
    "- Load Document (PDF, docx, text) from S3 \n",
    "- Store into Vector store \n",
    "- QnA using LLM with RetrievalQA chain provided by LangChain\n",
    "\n",
    "Ref: https://python.langchain.com/docs/use_cases/question_answering/"
   ]
  },
  {
   "cell_type": "code",
   "execution_count": null,
   "metadata": {},
   "outputs": [],
   "source": [
    "\n",
    "\n",
    "# Read a PDF document from S3 using S3FileLoader\n",
    "from langchain.document_loaders import S3FileLoader\n",
    "loader = S3FileLoader(\"<bucket-name>\", \"<file-name>\")\n",
    "all_splits = loader.load_and_split()\n",
    "print(f\"Original: Number of document splits = {len(all_splits)}\")\n",
    "\n",
    "\n",
    "# Embedding and Store into Vector Store\n",
    "from langchain.embeddings import OpenAIEmbeddings\n",
    "from langchain.vectorstores import Chroma\n",
    "vectorstore = Chroma.from_documents(documents=all_splits, embedding=OpenAIEmbeddings())\n",
    "\n",
    "## TODO: use AOS as vector store\n",
    "from langchain.embeddings import OpenAIEmbeddings\n",
    "from langchain.vectorstores import OpenSearchVectorSearch\n",
    "from opensearchpy import RequestsHttpConnection\n",
    "\n",
    "service = 'es' # must set the service as 'aoss'\n",
    "region = 'us-east-1'\n",
    "# credentials = boto3.Session(aws_access_key_id='xxxxxx',aws_secret_access_key='xxxxx').get_credentials()\n",
    "# awsauth = AWS4Auth('xxxxx', 'xxxxxx', region,service, session_token=credentials.token)\n",
    "\n",
    "vectorstore = OpenSearchVectorSearch.from_documents(\n",
    "    all_splits,\n",
    "    OpenAIEmbeddings(),\n",
    "    opensearch_url=\"https://<opensearch-domain-name>-<region-name>.<service-name>.amazonaws.com\",\n",
    "    http_auth=(\"<username>\", \"<password>\"),\n",
    "    timeout = 300,\n",
    "    use_ssl = True,\n",
    "    verify_certs = True,\n",
    "    connection_class = RequestsHttpConnection,\n",
    "    index_name=\"<index-name>\",\n",
    "    engine=\"faiss\"\n",
    ")\n",
    "\n",
    "\n"
   ]
  },
  {
   "cell_type": "code",
   "execution_count": null,
   "metadata": {},
   "outputs": [],
   "source": [
    "# question = \"Why need a Modern Data architecture? summarize in 100 words\"\n",
    "# question = \"What are the pillars of a Modern Data architecture? summarize in 100 words\"\n",
    "question = \"Explain about Modern Data Architecture with a 5 year-old kid. summarize in 100 words\"\n",
    "docs = vectorstore.similarity_search(question, k=10)\n",
    "print(f\"Vector search: Number of document related to the question = {len(docs)}\")\n",
    "\n",
    "# QnA the content using RetrievalQA chain provided by Langchain\n",
    "from langchain.chains import RetrievalQA\n",
    "from langchain.chat_models import ChatOpenAI\n",
    "\n",
    "llm = ChatOpenAI(model_name=\"gpt-3.5-turbo\", temperature=0)\n",
    "qa_chain = RetrievalQA.from_chain_type(llm,retriever=vectorstore.as_retriever())\n",
    "output = qa_chain({\"query\": question})\n",
    "print(output['result'])"
   ]
  }
 ],
 "metadata": {
  "language_info": {
   "name": "python"
  },
  "orig_nbformat": 4
 },
 "nbformat": 4,
 "nbformat_minor": 2
}
